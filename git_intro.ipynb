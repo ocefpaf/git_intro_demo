{
 "cells": [
  {
   "cell_type": "markdown",
   "metadata": {},
   "source": [
    "# Very simple git intro\n",
    "\n",
    "![story_files](./figures/version_control.gif)"
   ]
  },
  {
   "cell_type": "markdown",
   "metadata": {},
   "source": [
    "## git [config](https://help.github.com/articles/set-up-git/)"
   ]
  },
  {
   "cell_type": "code",
   "execution_count": 2,
   "metadata": {
    "collapsed": false
   },
   "outputs": [
    {
     "name": "stdout",
     "output_type": "stream",
     "text": [
      "ocefpaf\n",
      "ocefpaf@gmail.com\n"
     ]
    }
   ],
   "source": [
    "%%bash\n",
    "\n",
    "git config --global --get user.name\n",
    "git config --global --get user.email"
   ]
  },
  {
   "cell_type": "markdown",
   "metadata": {},
   "source": [
    "## Basic commands\n",
    "\n",
    "```bash\n",
    "git clone <repo>\n",
    "git status\n",
    "git log\n",
    "git commit\n",
    "git add <file>\n",
    "git rm <file>\n",
    "git diff <file>\n",
    "git push\n",
    "```"
   ]
  },
  {
   "cell_type": "markdown",
   "metadata": {},
   "source": [
    "git clone https://github.com/ocefpaf/git_intro_demo.git"
   ]
  },
  {
   "cell_type": "code",
   "execution_count": 3,
   "metadata": {
    "collapsed": false
   },
   "outputs": [
    {
     "name": "stdout",
     "output_type": "stream",
     "text": [
      "On branch master\n",
      "Your branch is up-to-date with 'origin/master'.\n",
      "Changes not staged for commit:\n",
      "  (use \"git add <file>...\" to update what will be committed)\n",
      "  (use \"git checkout -- <file>...\" to discard changes in working directory)\n",
      "\n",
      "\tmodified:   git_intro.ipynb\n",
      "\n",
      "Untracked files:\n",
      "  (use \"git add <file>...\" to include in what will be committed)\n",
      "\n",
      "\tfigures/\n",
      "\n",
      "no changes added to commit (use \"git add\" and/or \"git commit -a\")\n"
     ]
    }
   ],
   "source": [
    "%%bash\n",
    "\n",
    "git status"
   ]
  },
  {
   "cell_type": "code",
   "execution_count": 4,
   "metadata": {
    "collapsed": false
   },
   "outputs": [
    {
     "name": "stdout",
     "output_type": "stream",
     "text": [
      "commit 135d8d22f5736efae499dd26bc69fba0ad73a70e\n",
      "Author: ocefpaf <ocefpaf@gmail.com>\n",
      "Date:   Wed Mar 25 13:57:24 2015 -0300\n",
      "\n",
      "    Minor updates.\n",
      "\n",
      "commit c34bab4beb96976ab4f8327eff9b04b338b92628\n",
      "Author: ocefpaf <ocefpaf@gmail.com>\n",
      "Date:   Wed Mar 25 13:38:30 2015 -0300\n",
      "\n",
      "    Finished git intro.\n",
      "\n",
      "commit 2684f1a07728b0fc454698896cff012854ec4232\n",
      "Author: ocefpaf <ocefpaf@gmail.com>\n",
      "Date:   Tue Mar 24 17:40:16 2015 -0300\n",
      "\n",
      "    Adding notebook.\n",
      "\n",
      "commit 00d71a1d90f83df754f3482b7fe060b5586b2e03\n",
      "Author: Filipe <ocefpaf@gmail.com>\n",
      "Date:   Tue Mar 24 17:37:48 2015 -0300\n",
      "\n",
      "    Initial commit\n"
     ]
    }
   ],
   "source": [
    "%%bash\n",
    "\n",
    "git log"
   ]
  },
  {
   "cell_type": "code",
   "execution_count": 5,
   "metadata": {
    "collapsed": false,
    "scrolled": true
   },
   "outputs": [
    {
     "name": "stdout",
     "output_type": "stream",
     "text": [
      "commit 135d8d22f5736efae499dd26bc69fba0ad73a70e\n",
      "Author: ocefpaf <ocefpaf@gmail.com>\n",
      "Date:   Wed Mar 25 13:57:24 2015 -0300\n",
      "\n",
      "    Minor updates.\n",
      "\n",
      "diff --git a/git_intro.ipynb b/git_intro.ipynb\n",
      "index 87093c7..41d3825 100644\n",
      "--- a/git_intro.ipynb\n",
      "+++ b/git_intro.ipynb\n",
      "@@ -372,7 +372,9 @@\n",
      "    \"cell_type\": \"markdown\",\n",
      "    \"metadata\": {},\n",
      "    \"source\": [\n",
      "-    \"# Useful resources\"\n",
      "+    \"# Useful resources\\n\",\n",
      "+    \"\\n\",\n",
      "+    \"![help!](figures/tar.png)\"\n",
      "    ]\n",
      "   },\n",
      "   {\n",
      "@@ -409,15 +411,21 @@\n",
      "   },\n",
      "   {\n",
      "    \"cell_type\": \"markdown\",\n",
      "-   \"metadata\": {},\n",
      "+   \"metadata\": {\n",
      "+    \"collapsed\": true\n",
      "+   },\n",
      "    \"source\": [\n",
      "-    \"### More resources:\"\n",
      "+    \"### Git aware [prompt](https://github.com/jimeh/git-aware-prompt)\\n\",\n",
      "+    \"\\n\",\n",
      "+    \"![git_prompt](https://raw.githubusercontent.com/jimeh/git-aware-prompt/master/preview.png)\"\n",
      "    ]\n",
      "   },\n",
      "   {\n",
      "    \"cell_type\": \"markdown\",\n",
      "    \"metadata\": {},\n",
      "    \"source\": [\n",
      "+    \"### Some links:\\n\",\n",
      "+    \"\\n\",\n",
      "     \"http://nbviewer.ipython.org/github/pelson/lessons_for_a_scientific_programmer/blob/master/2014-euroscipy/00_intro.ipynb\\n\",\n",
      "     \"\\n\",\n",
      "     \"http://scitools.org.uk/iris/docs/latest/developers_guide/gitwash/git_development.html\\n\",\n",
      "@@ -429,19 +437,6 @@\n",
      "   },\n",
      "   {\n",
      "    \"cell_type\": \"markdown\",\n",
      "-   \"metadata\": {\n",
      "-    \"collapsed\": true\n",
      "-   },\n",
      "-   \"source\": [\n",
      "-    \"## Last but not least...\\n\",\n",
      "-    \"\\n\",\n",
      "-    \"### Git aware [prompt](https://github.com/jimeh/git-aware-prompt)\\n\",\n",
      "-    \"\\n\",\n",
      "-    \"![git_prompt](https://raw.githubusercontent.com/jimeh/git-aware-prompt/master/preview.png)\"\n",
      "-   ]\n",
      "-  },\n",
      "-  {\n",
      "-   \"cell_type\": \"markdown\",\n",
      "    \"metadata\": {},\n",
      "    \"source\": [\n",
      "     \"# Markdown\"\n"
     ]
    }
   ],
   "source": [
    "%%bash\n",
    "\n",
    "git show"
   ]
  },
  {
   "cell_type": "code",
   "execution_count": 6,
   "metadata": {
    "collapsed": false
   },
   "outputs": [
    {
     "name": "stdout",
     "output_type": "stream",
     "text": [
      "Writing foo.md\n"
     ]
    }
   ],
   "source": [
    "%%writefile foo.md\n",
    "\n",
    "Fetchez la vache"
   ]
  },
  {
   "cell_type": "code",
   "execution_count": 7,
   "metadata": {
    "collapsed": false
   },
   "outputs": [
    {
     "name": "stdout",
     "output_type": "stream",
     "text": [
      "On branch master\n",
      "Your branch is up-to-date with 'origin/master'.\n",
      "Changes not staged for commit:\n",
      "  (use \"git add <file>...\" to update what will be committed)\n",
      "  (use \"git checkout -- <file>...\" to discard changes in working directory)\n",
      "\n",
      "\tmodified:   git_intro.ipynb\n",
      "\n",
      "Untracked files:\n",
      "  (use \"git add <file>...\" to include in what will be committed)\n",
      "\n",
      "\tfigures/\n",
      "\tfoo.md\n",
      "\n",
      "no changes added to commit (use \"git add\" and/or \"git commit -a\")\n"
     ]
    }
   ],
   "source": [
    "%%bash\n",
    "\n",
    "git status"
   ]
  },
  {
   "cell_type": "code",
   "execution_count": 8,
   "metadata": {
    "collapsed": true
   },
   "outputs": [],
   "source": [
    "%%bash\n",
    "\n",
    "git add foo.md"
   ]
  },
  {
   "cell_type": "code",
   "execution_count": 11,
   "metadata": {
    "collapsed": false
   },
   "outputs": [
    {
     "name": "stdout",
     "output_type": "stream",
     "text": [
      "A  foo.md\n",
      " M git_intro.ipynb\n",
      "?? figures/\n"
     ]
    }
   ],
   "source": [
    "%%bash\n",
    "\n",
    "git st"
   ]
  },
  {
   "cell_type": "code",
   "execution_count": 12,
   "metadata": {
    "collapsed": false
   },
   "outputs": [],
   "source": [
    "%%bash\n",
    "\n",
    "git diff foo.md"
   ]
  },
  {
   "cell_type": "code",
   "execution_count": 13,
   "metadata": {
    "collapsed": false,
    "scrolled": true
   },
   "outputs": [
    {
     "name": "stdout",
     "output_type": "stream",
     "text": [
      "diff --git a/git_intro.ipynb b/git_intro.ipynb\n",
      "index 41d3825..6e07a4d 100644\n",
      "--- a/git_intro.ipynb\n",
      "+++ b/git_intro.ipynb\n",
      "@@ -17,8 +17,21 @@\n",
      "    ]\n",
      "   },\n",
      "   {\n",
      "-   \"cell_type\": \"markdown\",\n",
      "-   \"metadata\": {},\n",
      "+   \"cell_type\": \"code\",\n",
      "+   \"execution_count\": 2,\n",
      "+   \"metadata\": {\n",
      "+    \"collapsed\": false\n",
      "+   },\n",
      "+   \"outputs\": [\n",
      "+    {\n",
      "+     \"name\": \"stdout\",\n",
      "+     \"output_type\": \"stream\",\n",
      "+     \"text\": [\n",
      "+      \"ocefpaf\\n\",\n",
      "+      \"ocefpaf@gmail.com\\n\"\n",
      "+     ]\n",
      "+    }\n",
      "+   ],\n",
      "    \"source\": [\n",
      "     \"%%bash\\n\",\n",
      "     \"\\n\",\n",
      "@@ -45,12 +58,40 @@\n",
      "    ]\n",
      "   },\n",
      "   {\n",
      "+   \"cell_type\": \"markdown\",\n",
      "+   \"metadata\": {},\n",
      "+   \"source\": [\n",
      "+    \"git clone https://github.com/ocefpaf/git_intro_demo.git\"\n",
      "+   ]\n",
      "+  },\n",
      "+  {\n",
      "    \"cell_type\": \"code\",\n",
      "-   \"execution_count\": null,\n",
      "+   \"execution_count\": 3,\n",
      "    \"metadata\": {\n",
      "     \"collapsed\": false\n",
      "    },\n",
      "-   \"outputs\": [],\n",
      "+   \"outputs\": [\n",
      "+    {\n",
      "+     \"name\": \"stdout\",\n",
      "+     \"output_type\": \"stream\",\n",
      "+     \"text\": [\n",
      "+      \"On branch master\\n\",\n",
      "+      \"Your branch is up-to-date with 'origin/master'.\\n\",\n",
      "+      \"Changes not staged for commit:\\n\",\n",
      "+      \"  (use \\\"git add <file>...\\\" to update what will be committed)\\n\",\n",
      "+      \"  (use \\\"git checkout -- <file>...\\\" to discard changes in working directory)\\n\",\n",
      "+      \"\\n\",\n",
      "+      \"\\tmodified:   git_intro.ipynb\\n\",\n",
      "+      \"\\n\",\n",
      "+      \"Untracked files:\\n\",\n",
      "+      \"  (use \\\"git add <file>...\\\" to include in what will be committed)\\n\",\n",
      "+      \"\\n\",\n",
      "+      \"\\tfigures/\\n\",\n",
      "+      \"\\n\",\n",
      "+      \"no changes added to commit (use \\\"git add\\\" and/or \\\"git commit -a\\\")\\n\"\n",
      "+     ]\n",
      "+    }\n",
      "+   ],\n",
      "    \"source\": [\n",
      "     \"%%bash\\n\",\n",
      "     \"\\n\",\n",
      "@@ -59,11 +100,41 @@\n",
      "   },\n",
      "   {\n",
      "    \"cell_type\": \"code\",\n",
      "-   \"execution_count\": null,\n",
      "+   \"execution_count\": 4,\n",
      "    \"metadata\": {\n",
      "     \"collapsed\": false\n",
      "    },\n",
      "-   \"outputs\": [],\n",
      "+   \"outputs\": [\n",
      "+    {\n",
      "+     \"name\": \"stdout\",\n",
      "+     \"output_type\": \"stream\",\n",
      "+     \"text\": [\n",
      "+      \"commit 135d8d22f5736efae499dd26bc69fba0ad73a70e\\n\",\n",
      "+      \"Author: ocefpaf <ocefpaf@gmail.com>\\n\",\n",
      "+      \"Date:   Wed Mar 25 13:57:24 2015 -0300\\n\",\n",
      "+      \"\\n\",\n",
      "+      \"    Minor updates.\\n\",\n",
      "+      \"\\n\",\n",
      "+      \"commit c34bab4beb96976ab4f8327eff9b04b338b92628\\n\",\n",
      "+      \"Author: ocefpaf <ocefpaf@gmail.com>\\n\",\n",
      "+      \"Date:   Wed Mar 25 13:38:30 2015 -0300\\n\",\n",
      "+      \"\\n\",\n",
      "+      \"    Finished git intro.\\n\",\n",
      "+      \"\\n\",\n",
      "+      \"commit 2684f1a07728b0fc454698896cff012854ec4232\\n\",\n",
      "+      \"Author: ocefpaf <ocefpaf@gmail.com>\\n\",\n",
      "+      \"Date:   Tue Mar 24 17:40:16 2015 -0300\\n\",\n",
      "+      \"\\n\",\n",
      "+      \"    Adding notebook.\\n\",\n",
      "+      \"\\n\",\n",
      "+      \"commit 00d71a1d90f83df754f3482b7fe060b5586b2e03\\n\",\n",
      "+      \"Author: Filipe <ocefpaf@gmail.com>\\n\",\n",
      "+      \"Date:   Tue Mar 24 17:37:48 2015 -0300\\n\",\n",
      "+      \"\\n\",\n",
      "+      \"    Initial commit\\n\"\n",
      "+     ]\n",
      "+    }\n",
      "+   ],\n",
      "    \"source\": [\n",
      "     \"%%bash\\n\",\n",
      "     \"\\n\",\n",
      "@@ -72,12 +143,84 @@\n",
      "   },\n",
      "   {\n",
      "    \"cell_type\": \"code\",\n",
      "-   \"execution_count\": null,\n",
      "+   \"execution_count\": 5,\n",
      "    \"metadata\": {\n",
      "     \"collapsed\": false,\n",
      "     \"scrolled\": true\n",
      "    },\n",
      "-   \"outputs\": [],\n",
      "+   \"outputs\": [\n",
      "+    {\n",
      "+     \"name\": \"stdout\",\n",
      "+     \"output_type\": \"stream\",\n",
      "+     \"text\": [\n",
      "+      \"commit 135d8d22f5736efae499dd26bc69fba0ad73a70e\\n\",\n",
      "+      \"Author: ocefpaf <ocefpaf@gmail.com>\\n\",\n",
      "+      \"Date:   Wed Mar 25 13:57:24 2015 -0300\\n\",\n",
      "+      \"\\n\",\n",
      "+      \"    Minor updates.\\n\",\n",
      "+      \"\\n\",\n",
      "+      \"diff --git a/git_intro.ipynb b/git_intro.ipynb\\n\",\n",
      "+      \"index 87093c7..41d3825 100644\\n\",\n",
      "+      \"--- a/git_intro.ipynb\\n\",\n",
      "+      \"+++ b/git_intro.ipynb\\n\",\n",
      "+      \"@@ -372,7 +372,9 @@\\n\",\n",
      "+      \"    \\\"cell_type\\\": \\\"markdown\\\",\\n\",\n",
      "+      \"    \\\"metadata\\\": {},\\n\",\n",
      "+      \"    \\\"source\\\": [\\n\",\n",
      "+      \"-    \\\"# Useful resources\\\"\\n\",\n",
      "+      \"+    \\\"# Useful resources\\\\n\\\",\\n\",\n",
      "+      \"+    \\\"\\\\n\\\",\\n\",\n",
      "+      \"+    \\\"![help!](figures/tar.png)\\\"\\n\",\n",
      "+      \"    ]\\n\",\n",
      "+      \"   },\\n\",\n",
      "+      \"   {\\n\",\n",
      "+      \"@@ -409,15 +411,21 @@\\n\",\n",
      "+      \"   },\\n\",\n",
      "+      \"   {\\n\",\n",
      "+      \"    \\\"cell_type\\\": \\\"markdown\\\",\\n\",\n",
      "+      \"-   \\\"metadata\\\": {},\\n\",\n",
      "+      \"+   \\\"metadata\\\": {\\n\",\n",
      "+      \"+    \\\"collapsed\\\": true\\n\",\n",
      "+      \"+   },\\n\",\n",
      "+      \"    \\\"source\\\": [\\n\",\n",
      "+      \"-    \\\"### More resources:\\\"\\n\",\n",
      "+      \"+    \\\"### Git aware [prompt](https://github.com/jimeh/git-aware-prompt)\\\\n\\\",\\n\",\n",
      "+      \"+    \\\"\\\\n\\\",\\n\",\n",
      "+      \"+    \\\"![git_prompt](https://raw.githubusercontent.com/jimeh/git-aware-prompt/master/preview.png)\\\"\\n\",\n",
      "+      \"    ]\\n\",\n",
      "+      \"   },\\n\",\n",
      "+      \"   {\\n\",\n",
      "+      \"    \\\"cell_type\\\": \\\"markdown\\\",\\n\",\n",
      "+      \"    \\\"metadata\\\": {},\\n\",\n",
      "+      \"    \\\"source\\\": [\\n\",\n",
      "+      \"+    \\\"### Some links:\\\\n\\\",\\n\",\n",
      "+      \"+    \\\"\\\\n\\\",\\n\",\n",
      "+      \"     \\\"http://nbviewer.ipython.org/github/pelson/lessons_for_a_scientific_programmer/blob/master/2014-euroscipy/00_intro.ipynb\\\\n\\\",\\n\",\n",
      "+      \"     \\\"\\\\n\\\",\\n\",\n",
      "+      \"     \\\"http://scitools.org.uk/iris/docs/latest/developers_guide/gitwash/git_development.html\\\\n\\\",\\n\",\n",
      "+      \"@@ -429,19 +437,6 @@\\n\",\n",
      "+      \"   },\\n\",\n",
      "+      \"   {\\n\",\n",
      "+      \"    \\\"cell_type\\\": \\\"markdown\\\",\\n\",\n",
      "+      \"-   \\\"metadata\\\": {\\n\",\n",
      "+      \"-    \\\"collapsed\\\": true\\n\",\n",
      "+      \"-   },\\n\",\n",
      "+      \"-   \\\"source\\\": [\\n\",\n",
      "+      \"-    \\\"## Last but not least...\\\\n\\\",\\n\",\n",
      "+      \"-    \\\"\\\\n\\\",\\n\",\n",
      "+      \"-    \\\"### Git aware [prompt](https://github.com/jimeh/git-aware-prompt)\\\\n\\\",\\n\",\n",
      "+      \"-    \\\"\\\\n\\\",\\n\",\n",
      "+      \"-    \\\"![git_prompt](https://raw.githubusercontent.com/jimeh/git-aware-prompt/master/preview.png)\\\"\\n\",\n",
      "+      \"-   ]\\n\",\n",
      "+      \"-  },\\n\",\n",
      "+      \"-  {\\n\",\n",
      "+      \"-   \\\"cell_type\\\": \\\"markdown\\\",\\n\",\n",
      "+      \"    \\\"metadata\\\": {},\\n\",\n",
      "+      \"    \\\"source\\\": [\\n\",\n",
      "+      \"     \\\"# Markdown\\\"\\n\"\n",
      "+     ]\n",
      "+    }\n",
      "+   ],\n",
      "    \"source\": [\n",
      "     \"%%bash\\n\",\n",
      "     \"\\n\",\n",
      "@@ -86,11 +229,19 @@\n",
      "   },\n",
      "   {\n",
      "    \"cell_type\": \"code\",\n",
      "-   \"execution_count\": null,\n",
      "+   \"execution_count\": 6,\n",
      "    \"metadata\": {\n",
      "     \"collapsed\": false\n",
      "    },\n",
      "-   \"outputs\": [],\n",
      "+   \"outputs\": [\n",
      "+    {\n",
      "+     \"name\": \"stdout\",\n",
      "+     \"output_type\": \"stream\",\n",
      "+     \"text\": [\n",
      "+      \"Writing foo.md\\n\"\n",
      "+     ]\n",
      "+    }\n",
      "+   ],\n",
      "    \"source\": [\n",
      "     \"%%writefile foo.md\\n\",\n",
      "     \"\\n\",\n",
      "@@ -99,7 +250,42 @@\n",
      "   },\n",
      "   {\n",
      "    \"cell_type\": \"code\",\n",
      "-   \"execution_count\": null,\n",
      "+   \"execution_count\": 7,\n",
      "+   \"metadata\": {\n",
      "+    \"collapsed\": false\n",
      "+   },\n",
      "+   \"outputs\": [\n",
      "+    {\n",
      "+     \"name\": \"stdout\",\n",
      "+     \"output_type\": \"stream\",\n",
      "+     \"text\": [\n",
      "+      \"On branch master\\n\",\n",
      "+      \"Your branch is up-to-date with 'origin/master'.\\n\",\n",
      "+      \"Changes not staged for commit:\\n\",\n",
      "+      \"  (use \\\"git add <file>...\\\" to update what will be committed)\\n\",\n",
      "+      \"  (use \\\"git checkout -- <file>...\\\" to discard changes in working directory)\\n\",\n",
      "+      \"\\n\",\n",
      "+      \"\\tmodified:   git_intro.ipynb\\n\",\n",
      "+      \"\\n\",\n",
      "+      \"Untracked files:\\n\",\n",
      "+      \"  (use \\\"git add <file>...\\\" to include in what will be committed)\\n\",\n",
      "+      \"\\n\",\n",
      "+      \"\\tfigures/\\n\",\n",
      "+      \"\\tfoo.md\\n\",\n",
      "+      \"\\n\",\n",
      "+      \"no changes added to commit (use \\\"git add\\\" and/or \\\"git commit -a\\\")\\n\"\n",
      "+     ]\n",
      "+    }\n",
      "+   ],\n",
      "+   \"source\": [\n",
      "+    \"%%bash\\n\",\n",
      "+    \"\\n\",\n",
      "+    \"git status\"\n",
      "+   ]\n",
      "+  },\n",
      "+  {\n",
      "+   \"cell_type\": \"code\",\n",
      "+   \"execution_count\": 8,\n",
      "    \"metadata\": {\n",
      "     \"collapsed\": true\n",
      "    },\n",
      "@@ -112,11 +298,21 @@\n",
      "   },\n",
      "   {\n",
      "    \"cell_type\": \"code\",\n",
      "-   \"execution_count\": null,\n",
      "+   \"execution_count\": 11,\n",
      "    \"metadata\": {\n",
      "     \"collapsed\": false\n",
      "    },\n",
      "-   \"outputs\": [],\n",
      "+   \"outputs\": [\n",
      "+    {\n",
      "+     \"name\": \"stdout\",\n",
      "+     \"output_type\": \"stream\",\n",
      "+     \"text\": [\n",
      "+      \"A  foo.md\\n\",\n",
      "+      \" M git_intro.ipynb\\n\",\n",
      "+      \"?? figures/\\n\"\n",
      "+     ]\n",
      "+    }\n",
      "+   ],\n",
      "    \"source\": [\n",
      "     \"%%bash\\n\",\n",
      "     \"\\n\",\n"
     ]
    }
   ],
   "source": [
    "%%bash\n",
    "\n",
    "git diff git_intro.ipynb"
   ]
  },
  {
   "cell_type": "code",
   "execution_count": 14,
   "metadata": {
    "collapsed": false
   },
   "outputs": [
    {
     "name": "stdout",
     "output_type": "stream",
     "text": [
      "rm 'foo.md'\n"
     ]
    }
   ],
   "source": [
    "%%bash\n",
    "\n",
    "git rm -f foo.md"
   ]
  },
  {
   "cell_type": "code",
   "execution_count": 15,
   "metadata": {
    "collapsed": false
   },
   "outputs": [
    {
     "name": "stdout",
     "output_type": "stream",
     "text": [
      " M git_intro.ipynb\n",
      "?? figures/\n"
     ]
    }
   ],
   "source": [
    "%%bash\n",
    "\n",
    "git st"
   ]
  },
  {
   "cell_type": "markdown",
   "metadata": {},
   "source": [
    "# GitHub workflow\n",
    "\n",
    "## Fork &rarr; Branch &rarr; Write &rarr; PR\n",
    "\n",
    "### Fork"
   ]
  },
  {
   "cell_type": "code",
   "execution_count": 16,
   "metadata": {
    "collapsed": false
   },
   "outputs": [
    {
     "name": "stderr",
     "output_type": "stream",
     "text": [
      "Cloning into 'git_intro_demo'...\n"
     ]
    }
   ],
   "source": [
    "%%bash\n",
    "\n",
    "git clone https://github.com/pyoceans/git_intro_demo.git"
   ]
  },
  {
   "cell_type": "code",
   "execution_count": 17,
   "metadata": {
    "collapsed": false
   },
   "outputs": [
    {
     "name": "stdout",
     "output_type": "stream",
     "text": [
      "/home/filipe/Dropbox/SWC/git_intro_demo/git_intro_demo\n"
     ]
    }
   ],
   "source": [
    "%cd git_intro_demo/"
   ]
  },
  {
   "cell_type": "markdown",
   "metadata": {},
   "source": [
    "### Branch\n",
    "\n",
    "![branch](./figures/branching.png)"
   ]
  },
  {
   "cell_type": "code",
   "execution_count": 19,
   "metadata": {
    "collapsed": true
   },
   "outputs": [],
   "source": [
    "%%bash\n",
    "\n",
    "git branch new_post"
   ]
  },
  {
   "cell_type": "code",
   "execution_count": 20,
   "metadata": {
    "collapsed": false
   },
   "outputs": [
    {
     "name": "stderr",
     "output_type": "stream",
     "text": [
      "Switched to branch 'new_post'\n"
     ]
    }
   ],
   "source": [
    "%%bash\n",
    "\n",
    "git checkout new_post"
   ]
  },
  {
   "cell_type": "code",
   "execution_count": 21,
   "metadata": {
    "collapsed": false
   },
   "outputs": [
    {
     "name": "stdout",
     "output_type": "stream",
     "text": [
      "Writing my_new_post.md\n"
     ]
    }
   ],
   "source": [
    "%%writefile my_new_post.md\n",
    "\n",
    "# Q: What is the meaning of life?\n",
    "# A: 42"
   ]
  },
  {
   "cell_type": "code",
   "execution_count": 22,
   "metadata": {
    "collapsed": false
   },
   "outputs": [
    {
     "name": "stdout",
     "output_type": "stream",
     "text": [
      "?? my_new_post.md\n"
     ]
    }
   ],
   "source": [
    "%%bash\n",
    "\n",
    "git st"
   ]
  },
  {
   "cell_type": "code",
   "execution_count": 23,
   "metadata": {
    "collapsed": true
   },
   "outputs": [],
   "source": [
    "%%bash\n",
    "\n",
    "git add my_new_post.md"
   ]
  },
  {
   "cell_type": "code",
   "execution_count": 24,
   "metadata": {
    "collapsed": false
   },
   "outputs": [
    {
     "name": "stdout",
     "output_type": "stream",
     "text": [
      "A  my_new_post.md\n"
     ]
    }
   ],
   "source": [
    "%%bash\n",
    "\n",
    "git st"
   ]
  },
  {
   "cell_type": "code",
   "execution_count": 25,
   "metadata": {
    "collapsed": false
   },
   "outputs": [
    {
     "name": "stdout",
     "output_type": "stream",
     "text": [
      "[new_post e5c4252] Adding my new post.\n",
      " 1 file changed, 3 insertions(+)\n",
      " create mode 100644 my_new_post.md\n"
     ]
    }
   ],
   "source": [
    "%%bash\n",
    "\n",
    "git commit -m \"Adding my new post.\" my_new_post.md"
   ]
  },
  {
   "cell_type": "code",
   "execution_count": 26,
   "metadata": {
    "collapsed": false
   },
   "outputs": [
    {
     "name": "stderr",
     "output_type": "stream",
     "text": [
      "fatal: The current branch new_post has no upstream branch.\n",
      "To push the current branch and set the remote as upstream, use\n",
      "\n",
      "    git push --set-upstream origin new_post\n",
      "\n"
     ]
    }
   ],
   "source": [
    "%%bash\n",
    "\n",
    "git push"
   ]
  },
  {
   "cell_type": "code",
   "execution_count": null,
   "metadata": {
    "collapsed": false
   },
   "outputs": [],
   "source": [
    "%%bash\n",
    "\n",
    "git push --set-upstream origin new_post"
   ]
  },
  {
   "cell_type": "markdown",
   "metadata": {},
   "source": [
    "## PR ready!?  What now?"
   ]
  },
  {
   "cell_type": "code",
   "execution_count": null,
   "metadata": {
    "collapsed": false
   },
   "outputs": [],
   "source": [
    "%%bash\n",
    "\n",
    "git remote --verbose"
   ]
  },
  {
   "cell_type": "code",
   "execution_count": null,
   "metadata": {
    "collapsed": false
   },
   "outputs": [],
   "source": [
    "%%bash\n",
    "\n",
    "git remote add upstream https://github.com/ocefpaf/git_intro_demo.git\n",
    "git remote --verbose"
   ]
  },
  {
   "cell_type": "markdown",
   "metadata": {},
   "source": [
    "Let go to [https://github.com/USERNAME/git_intro_demo.git](https://github.com/ocefpaf/git_intro_demo.git)\n",
    "\n",
    "\n",
    "And see id we can merge this!\n",
    "\n",
    "![merge](./figures/merging.png)"
   ]
  },
  {
   "cell_type": "markdown",
   "metadata": {},
   "source": [
    "# Useful resources\n",
    "\n",
    "![help!](figures/tar.png)"
   ]
  },
  {
   "cell_type": "markdown",
   "metadata": {},
   "source": [
    "## aliases\n",
    "\n",
    "```shell\n",
    "[alias]\n",
    "    pull = pull --ff-only\n",
    "    st = status -s\n",
    "    ci = commit\n",
    "    co = checkout\n",
    "    diff = diff --word-diff\n",
    "    ll = log --pretty=format:\"%C(yellow)%h%Cred%d\\\\ %Creset%s%Cblue\\\\ [%cn]\" --decorate --numstat\n",
    "    ls = log --pretty=format:\"%C(yellow)%h\\\\ %ad%Cred%d\\\\ %Creset%s%Cblue\\\\ [%cn]\" --decorate --date=relative\n",
    "    filelog = log -u\n",
    "    la = \"!git config -l | grep alias | cut -c 7-\"\n",
    "    grep = grep -Ii\n",
    "```"
   ]
  },
  {
   "cell_type": "markdown",
   "metadata": {},
   "source": [
    "Important things I did not cover:\n",
    "\n",
    "- Undoing stuff\n",
    "- Checking out to a previous commit\n",
    "- SVN/HG git mappings (if you ar coming from Subversion or Mercurial)"
   ]
  },
  {
   "cell_type": "markdown",
   "metadata": {
    "collapsed": true
   },
   "source": [
    "### Git aware [prompt](https://github.com/jimeh/git-aware-prompt)\n",
    "\n",
    "![git_prompt](https://raw.githubusercontent.com/jimeh/git-aware-prompt/master/preview.png)"
   ]
  },
  {
   "cell_type": "markdown",
   "metadata": {},
   "source": [
    "### Some links:\n",
    "\n",
    "http://nbviewer.ipython.org/github/pelson/lessons_for_a_scientific_programmer/blob/master/2014-euroscipy/00_intro.ipynb\n",
    "\n",
    "http://scitools.org.uk/iris/docs/latest/developers_guide/gitwash/git_development.html\n",
    "\n",
    "https://ocefpaf.github.io/python4oceanographers/blog/2014/12/15/gihub_foss/\n",
    "\n",
    "https://github.com/Unidata/git-recipes/blob/master/cookbook.md"
   ]
  },
  {
   "cell_type": "markdown",
   "metadata": {},
   "source": [
    "# Markdown"
   ]
  }
 ],
 "metadata": {
  "kernelspec": {
   "display_name": "Python 3",
   "language": "python",
   "name": "python3"
  },
  "language_info": {
   "codemirror_mode": {
    "name": "ipython",
    "version": 3
   },
   "file_extension": ".py",
   "mimetype": "text/x-python",
   "name": "python",
   "nbconvert_exporter": "python",
   "pygments_lexer": "ipython3",
   "version": "3.4.1"
  }
 },
 "nbformat": 4,
 "nbformat_minor": 0
}
